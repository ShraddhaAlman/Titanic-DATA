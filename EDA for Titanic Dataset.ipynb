{
 "cells": [
  {
   "cell_type": "code",
   "execution_count": null,
   "id": "2a7bdad3-81df-4bce-a7f2-638a9f4fe036",
   "metadata": {},
   "outputs": [],
   "source": [
    "import pandas as pd\n",
    "import numpy as np\n",
    "import matplotlib.pyplot as plt\n",
    "import seaborn as sns\n",
    "%matplotlib inline"
   ]
  },
  {
   "cell_type": "code",
   "execution_count": null,
   "id": "81d5f2ab-3245-4127-9f03-bd43a9a3f356",
   "metadata": {},
   "outputs": [],
   "source": [
    "pip install pandas_profiling"
   ]
  },
  {
   "cell_type": "code",
   "execution_count": null,
   "id": "f29aa5e1-5005-4502-92f8-5dd1580200b7",
   "metadata": {},
   "outputs": [],
   "source": [
    "Importing Data"
   ]
  },
  {
   "cell_type": "code",
   "execution_count": null,
   "id": "6ed0cb75-256a-4922-850e-369eb0062b3f",
   "metadata": {},
   "outputs": [],
   "source": [
    "titanic_train= pd.read_csv('https://raw.githubusercontent.com/ShraddhaAlman/Titanic-DATA/main/titanic_train.csv')\n",
    "titanic_test=pd.read_csv('https://raw.githubusercontent.com/ShraddhaAlman/Titanic-DATA/main/test.csv')\n",
    "\n",
    "combine = [titanic_train, titanic_test]"
   ]
  },
  {
   "cell_type": "code",
   "execution_count": null,
   "id": "1bccb884-4c41-4718-868c-de6793756b98",
   "metadata": {},
   "outputs": [],
   "source": [
    "combine"
   ]
  },
  {
   "cell_type": "markdown",
   "id": "a3a55afe-84ed-42ec-8aa0-5871739885a5",
   "metadata": {},
   "source": [
    "Examining Data"
   ]
  },
  {
   "cell_type": "code",
   "execution_count": null,
   "id": "c4bf8dfe-f99f-4989-afe0-3441c27d7cc9",
   "metadata": {},
   "outputs": [],
   "source": [
    "titanic_train.head()"
   ]
  },
  {
   "cell_type": "code",
   "execution_count": null,
   "id": "44f4a4f1-8253-4603-b66e-e32167197338",
   "metadata": {},
   "outputs": [],
   "source": [
    "titanic_train.tail(5)"
   ]
  },
  {
   "cell_type": "code",
   "execution_count": null,
   "id": "ea67bb11-4280-4171-a61b-5aa17bbd6b51",
   "metadata": {},
   "outputs": [],
   "source": [
    "titanic_train.shape"
   ]
  },
  {
   "cell_type": "code",
   "execution_count": null,
   "id": "01f48d91-cc97-4d77-bae4-cf8453098adf",
   "metadata": {},
   "outputs": [],
   "source": [
    "titanic_train.info()"
   ]
  },
  {
   "cell_type": "code",
   "execution_count": null,
   "id": "1fc78c50-b50c-48cb-8d64-c8fc40f98229",
   "metadata": {},
   "outputs": [],
   "source": [
    "titanic_train.describe()"
   ]
  },
  {
   "cell_type": "markdown",
   "id": "42cef31c-4d7b-41a9-9d93-c169543b761f",
   "metadata": {},
   "source": [
    "Inside: (FOR EXAMPLE)\n",
    "1. The total sample is 891 or 40% of the actual number of passengers on board the Titanic (2224).\n",
    "2. Survived is a categorical feature with 0 or 1 values.\n",
    "3. Around 38% samples survived representative of the actual survival rate at 32%.\n",
    "4. Fares varied widely with few passengers (<1%) paying as much as $512.\n",
    "5. Few older passengers (<1%) in the 65-80 age range.\n"
   ]
  },
  {
   "cell_type": "code",
   "execution_count": null,
   "id": "9396ef39-e0c5-4e66-b60e-d0065625c01c",
   "metadata": {},
   "outputs": [],
   "source": [
    "titanic_train.columns"
   ]
  },
  {
   "cell_type": "markdown",
   "id": "8f93321a-59d5-439c-a8c7-d950deb6b5b2",
   "metadata": {},
   "source": [
    "DATA PROFILING"
   ]
  },
  {
   "cell_type": "code",
   "execution_count": null,
   "id": "0eb02cad-0ed6-4544-9729-b903c63d0dde",
   "metadata": {},
   "outputs": [],
   "source": [
    "import numpy as np\n",
    "import pandas as pd\n",
    "from ydata_profiling import ProfileReport"
   ]
  },
  {
   "cell_type": "code",
   "execution_count": null,
   "id": "f514101a-e2b1-4572-b64f-f70ddfd33911",
   "metadata": {},
   "outputs": [],
   "source": [
    "profile = ProfileReport(titanic_train,title='Pandas Profiling Detail')\n",
    "profile"
   ]
  }
 ],
 "metadata": {
  "kernelspec": {
   "display_name": "Python 3 (ipykernel)",
   "language": "python",
   "name": "python3"
  },
  "language_info": {
   "codemirror_mode": {
    "name": "ipython",
    "version": 3
   },
   "file_extension": ".py",
   "mimetype": "text/x-python",
   "name": "python",
   "nbconvert_exporter": "python",
   "pygments_lexer": "ipython3",
   "version": "3.10.6"
  }
 },
 "nbformat": 4,
 "nbformat_minor": 5
}
